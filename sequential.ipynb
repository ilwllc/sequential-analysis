{
 "cells": [
  {
   "cell_type": "markdown",
   "id": "0ad9f5f6",
   "metadata": {},
   "source": [
    "# This notebooks contains:\n",
    "- some useful Bayes Factors (R's) that can be used for various sequential analysis use cases.  \n",
    "- an 'web traffic' A/B testing example"
   ]
  },
  {
   "cell_type": "code",
   "execution_count": 1,
   "id": "6c5cf5a8-b6b2-485f-8846-b02c46a93935",
   "metadata": {
    "tags": []
   },
   "outputs": [
    {
     "name": "stdout",
     "output_type": "stream",
     "text": [
      "Requirement already satisfied: numpy in c:\\users\\connollyb\\anaconda3\\lib\\site-packages (1.23.5)\n",
      "Requirement already satisfied: scipy in c:\\users\\connollyb\\anaconda3\\lib\\site-packages (1.9.1)\n",
      "Requirement already satisfied: numpy<1.25.0,>=1.18.5 in c:\\users\\connollyb\\anaconda3\\lib\\site-packages (from scipy) (1.23.5)\n",
      "Requirement already satisfied: rpy2 in c:\\users\\connollyb\\anaconda3\\lib\\site-packages (3.5.11)\n",
      "Requirement already satisfied: tzlocal in c:\\users\\connollyb\\anaconda3\\lib\\site-packages (from rpy2) (4.3)\n",
      "Requirement already satisfied: packaging in c:\\users\\connollyb\\anaconda3\\lib\\site-packages (from rpy2) (21.3)\n",
      "Requirement already satisfied: pytz in c:\\users\\connollyb\\anaconda3\\lib\\site-packages (from rpy2) (2022.1)\n",
      "Requirement already satisfied: cffi>=1.10.0 in c:\\users\\connollyb\\anaconda3\\lib\\site-packages (from rpy2) (1.15.1)\n",
      "Requirement already satisfied: jinja2 in c:\\users\\connollyb\\anaconda3\\lib\\site-packages (from rpy2) (2.11.3)\n",
      "Requirement already satisfied: pycparser in c:\\users\\connollyb\\anaconda3\\lib\\site-packages (from cffi>=1.10.0->rpy2) (2.21)\n",
      "Requirement already satisfied: MarkupSafe>=0.23 in c:\\users\\connollyb\\anaconda3\\lib\\site-packages (from jinja2->rpy2) (2.0.1)\n",
      "Requirement already satisfied: pyparsing!=3.0.5,>=2.0.2 in c:\\users\\connollyb\\anaconda3\\lib\\site-packages (from packaging->rpy2) (3.0.9)\n",
      "Requirement already satisfied: pytz-deprecation-shim in c:\\users\\connollyb\\anaconda3\\lib\\site-packages (from tzlocal->rpy2) (0.1.0.post0)\n",
      "Requirement already satisfied: tzdata in c:\\users\\connollyb\\anaconda3\\lib\\site-packages (from tzlocal->rpy2) (2023.3)\n"
     ]
    }
   ],
   "source": [
    "!pip install numpy\n",
    "!pip install scipy\n",
    "!pip install rpy2"
   ]
  },
  {
   "cell_type": "code",
   "execution_count": 2,
   "id": "f688a0bd",
   "metadata": {},
   "outputs": [
    {
     "name": "stderr",
     "output_type": "stream",
     "text": [
      "R[write to console]: Installing package into 'C:/Users/connollyb/AppData/Local/R/win-library/4.2'\n",
      "(as 'lib' is unspecified)\n",
      "\n"
     ]
    },
    {
     "name": "stdout",
     "output_type": "stream",
     "text": [
      "--- Please select a CRAN mirror for use in this session ---\n",
      "\n",
      "  There is a binary version available but the source version is later:\n",
      "                binary     source needs_compilation\n",
      "BayesFactor 0.9.12-4.6 0.9.12-4.7              TRUE\n",
      "\n",
      "  Binaries will be installed\n"
     ]
    },
    {
     "name": "stderr",
     "output_type": "stream",
     "text": [
      "R[write to console]: trying URL 'https://mirror.las.iastate.edu/CRAN/bin/windows/contrib/4.2/BayesFactor_0.9.12-4.6.zip'\n",
      "\n",
      "R[write to console]: Content type 'application/zip'\n",
      "R[write to console]:  length 2926876 bytes (2.8 MB)\n",
      "\n",
      "R[write to console]: downloaded 2.8 MB\n",
      "\n",
      "\n"
     ]
    },
    {
     "name": "stdout",
     "output_type": "stream",
     "text": [
      "package 'BayesFactor' successfully unpacked and MD5 sums checked\n",
      "\n",
      "The downloaded binary packages are in\n",
      "\tC:\\Users\\connollyb\\AppData\\Local\\Temp\\RtmpOksVci\\downloaded_packages\n"
     ]
    }
   ],
   "source": [
    "# general - e.g., math functions for binomial BF\n",
    "import numpy as np\n",
    "import scipy\n",
    "from scipy.special import betainc\n",
    "# for bayes factor t-test\n",
    "import rpy2.robjects as robjects\n",
    "from rpy2.robjects import r, pandas2ri\n",
    "from rpy2.robjects.packages import importr\n",
    "import pandas as pd\n",
    "import random # for random seed\n",
    "import matplotlib.pyplot as plt # for plotting stuff\n",
    "import pylab as pl\n",
    "import math\n",
    "\n",
    "pandas2ri.activate() # https://stackoverflow.com/questions/67028334/using-rpy2-cannot-find-r-package-that-is-installed\n",
    "utils = importr(\"utils\")\n",
    "package_name = \"BayesFactor\"\n",
    "utils.install_packages(package_name)\n",
    "# import the BayesFactor package\n",
    "BayesFactor = importr('BayesFactor')"
   ]
  },
  {
   "cell_type": "markdown",
   "id": "ac20cea4",
   "metadata": {},
   "source": [
    "## Define Functions"
   ]
  },
  {
   "cell_type": "markdown",
   "id": "42357ff4",
   "metadata": {},
   "source": [
    "Creates an experiment with N customers (n observations) that are driven to either website A or website B.  \n",
    "if p_A is the probability of clicking website A and p_B is the probability of clicking website B, \n",
    "threshold = p_A/(p_A+p_B)\n",
    "The Bayes factor is the probability that p_A and p_B are anything over the probability that p_A=p_B.\n",
    "In other words, it's the probabilty that threshold=[0,1] over the probability that threshold=0.5.\n",
    "\n",
    "  BF = \\frac{\\int_0^1 dp_A p_A^A(1-p_A)^{N_A} \\int_0^1 dp_B p_B^B(1-p_B)^{N_B}{0.5^A(1-0.5)^{N_A} \\int_0^1 dp_B 0.5^B(1-0.5)^{N_B}}"
   ]
  },
  {
   "cell_type": "markdown",
   "id": "1e44d7c1",
   "metadata": {},
   "source": [
    "These are some example likelihood ratios that you can use for sequential analysis.  They include \n",
    "- binomial_DF: takes two Poisson distributed integers and calculates the likelihood that they have different means over the likelihood that they have the same mean\n",
    "- binomial_BF_inc: takes two Poisson distributed integers and calculates the likelihood that the binomial mean p is greater than the threshold pT\n",
    "- bayesian_t_test: takes two lists of Gaussian-distributed numbers and determines the likelihood that they have different means over the likelihood that they have the same mean    \n",
    "- dual_binomial_BF: returns the probability that the means of two binomial distributions are different over the probability that they are the same  \n",
    "- create_web_AB_experiment: creates a simulation of an A/B test, returning the BF's as data are accumulated."
   ]
  },
  {
   "cell_type": "code",
   "execution_count": 3,
   "id": "5b39552c-d12c-478f-9e14-8cf22d2a9807",
   "metadata": {
    "tags": []
   },
   "outputs": [],
   "source": [
    "def binomial_BF(A,B):\n",
    "# Parameters:\n",
    "# A (int): A decimal integer\n",
    "# B (int): Another decimal integer\n",
    "# Returns:\n",
    "# log of the Bayes Factor (likelihood ratio) = log(Prob(A,B|A and B are derived from different binomial probabilities)) - log(Prob(A,B|A and B are derived from the same binomial probability))\n",
    "  log_denom = (A+B)*np.log(0.5)\n",
    "  log_num = scipy.special.loggamma(A+1)+scipy.special.loggamma(B+1)-scipy.special.loggamma(A+B+2)\n",
    "  return log_num-log_denom"
   ]
  },
  {
   "cell_type": "code",
   "execution_count": 4,
   "id": "ed3c3f0b",
   "metadata": {},
   "outputs": [],
   "source": [
    "def binomial_BF_inc(A,N,p_T):\n",
    "# Parameters:\n",
    "# A (int): number of clicks\n",
    "# N (int): total number of visits\n",
    "# Returns:\n",
    "# bayes Factor (likelihood ratio) = Prob(A,N|group A has mean greater than p_T)) - log(Prob(A,N|group A has mean less than p_T)\n",
    "  return ((1-betainc(A+1,N-A+1,p_T))/(1-p_T))/(betainc(A+1,N-A+1,p_T)/p_T)    "
   ]
  },
  {
   "cell_type": "code",
   "execution_count": 5,
   "id": "52d0deaf",
   "metadata": {},
   "outputs": [],
   "source": [
    "def dual_binomial_BF(A,N_A,B,N_B):\n",
    "# Parameters:\n",
    "# A (int): number of customers who click site A\n",
    "# N_A (int): number of customers driven to site A\n",
    "# B (int): number of customers who click site B\n",
    "# N_B (int): number of customers driven to site B\n",
    "# Returns:\n",
    "# Bayes Factor (likelihood ratio) = \n",
    "#    Prob(A,B|p_A!=p_B) / Prob(A,B|p_A=p_B)\n",
    "  log_denom = scipy.special.loggamma(A+B+1)+scipy.special.loggamma(N_A+N_B-A-B+1)-scipy.special.loggamma(N_A+N_B+2) \n",
    "  log_num  = scipy.special.loggamma(A+1)+scipy.special.loggamma(N_A-A+1)-scipy.special.loggamma(N_A+2)    \n",
    "  log_num += scipy.special.loggamma(B+1)+scipy.special.loggamma(N_B-B+1)-scipy.special.loggamma(N_B+2)    \n",
    "  return log_num-log_denom\n",
    "    "
   ]
  },
  {
   "cell_type": "code",
   "execution_count": 6,
   "id": "604a58a9",
   "metadata": {
    "scrolled": false
   },
   "outputs": [],
   "source": [
    "# see https://statsthinking21.github.io/statsthinking21-python/10-BayesianStatistics.html\n",
    "def bayesian_t_test(A_list,B_list):\n",
    "# Parameters:\n",
    "# A (int): A decimal integer\n",
    "# B (int): Another decimal integer\n",
    "# p (float):probability threshold\n",
    "# Returns:\n",
    "# Bayes Factor (likelihood ratio) = \n",
    "#    Prob(A,B|binomial probability of A >p and binomial probability of B < p ) / Prob(A,B|binomial probability of A <p and binomial probability of B > p)\n",
    "\n",
    "  robjects.globalenv[\"A_list\"] = np.array(A_list)\n",
    "  robjects.globalenv[\"B_list\"] = np.array(B_list)\n",
    "\n",
    "  # compute the Bayes factor\n",
    "  r('bf = ttestBF(y=A_list, x=B_list, nullInterval = c(0, Inf))')\n",
    "  return r('bf@bayesFactor$bf[1]')[0]"
   ]
  },
  {
   "cell_type": "code",
   "execution_count": 7,
   "id": "9e821e0f",
   "metadata": {},
   "outputs": [],
   "source": [
    "def convert_BF_to_posterior(BF):\n",
    "    return BF/(1+BF)\n",
    "\n",
    "\n",
    "def binomial_BF_inc_err(A,N,pT):\n",
    "    binomial_error=np.sqrt(N*(A/N)*(1-A/N))\n",
    "    return binomial_BF_inc(A,N,pT),binomial_BF_inc(A-binomial_error,N,pT),binomial_BF_inc(A+binomial_error,N,pT)\n",
    "    "
   ]
  },
  {
   "cell_type": "markdown",
   "id": "26ca1071",
   "metadata": {},
   "source": [
    "# Do simple sequential analysis\n",
    "We simulate a simple A/B test scenario.  Two web pages are created.  50% of customer traffic is driven to website A and 50% to website B.  We then want to determine whether the probability of clicking an ad is greater on website A than website B.  \n",
    "\n",
    "The simulated data is created in a slightly unintuitive way.  A random number is generated between 0 and 1.  threshold is the probability the relative probability of a person clicking website A over website B.  \n",
    "Specifically, we\n",
    "1.  create dataframe with column with randomly generated numbers between 0 and 1\n",
    "2.  create column with thresholded 0's and 1's\n",
    "3.  count cumulative values that pass threshold\n",
    "4.  create column with number of row"
   ]
  },
  {
   "cell_type": "code",
   "execution_count": 8,
   "id": "3b0b9afc",
   "metadata": {},
   "outputs": [],
   "source": [
    "def create_web_AB_experiment(n_observations,p_A,p_B):\n",
    "# returns: list of BF's\n",
    "  sequential_df = pd.DataFrame()\n",
    "  sequential_df['row_number'] = [x for x in range(N_total_customers)]\n",
    "  sequential_df['customer_A_or_B'] = [('A' if random.uniform(0, 1)<0.5 else 'B') for x in range(N_total_customers)]\n",
    "  sequential_df['random_number'] = [random.uniform(0,1) for x in range(N_total_customers)]\n",
    "  sequential_df['passes_threshold'] = [-1]*N_total_customers # initialize\n",
    "  sequential_df.loc[sequential_df['customer_A_or_B']=='A', 'passes_threshold'] = (sequential_df.loc[sequential_df['customer_A_or_B']=='A', 'random_number']<p_A)*1\n",
    "  sequential_df.loc[sequential_df['customer_A_or_B']=='B', 'passes_threshold'] = (sequential_df.loc[sequential_df['customer_A_or_B']=='B', 'random_number']<p_B)*1\n",
    "  sequential_df['cumulative_A'] = [np.sum(sequential_df['customer_A_or_B'][:i]=='A') for i in sequential_df['row_number']]\n",
    "  sequential_df['cumulative_B'] = [np.sum(sequential_df['customer_A_or_B'][:i]=='B') for i in sequential_df['row_number']]\n",
    "  sequential_df['cumulative_passes_threshold_A'] = [np.sum(sequential_df['passes_threshold'][:i]*(sequential_df['customer_A_or_B']=='A')) for i in sequential_df['row_number']]\n",
    "  sequential_df['cumulative_passes_threshold_B'] = [np.sum(sequential_df['passes_threshold'][:i]*(sequential_df['customer_A_or_B']=='B')) for i in sequential_df['row_number']]\n",
    "  BF = [dual_binomial_BF(x[0],x[1],x[2],x[3]) for x in zip(sequential_df['cumulative_passes_threshold_A'],sequential_df['cumulative_A'],sequential_df['cumulative_passes_threshold_B'],sequential_df['cumulative_B'])]  \n",
    "  return BF\n",
    "\n",
    "\n",
    "        "
   ]
  },
  {
   "cell_type": "code",
   "execution_count": 9,
   "id": "c4cb3431",
   "metadata": {},
   "outputs": [
    {
     "name": "stdout",
     "output_type": "stream",
     "text": [
      "log upper threshold: -1.5581446180465497\n",
      "log lower threshold: 2.772588722239781\n",
      "upper threshold: 0.21052631578947373\n",
      "lower threshold: 15.999999999999998\n"
     ]
    }
   ],
   "source": [
    "alpha = 0.05 # alpha = type I error rate = sig. level\n",
    "beta  = 0.2  # beta  = type II error rate = 1-power\n",
    "p_A = 0.01\n",
    "p_B = 0.02\n",
    "# Wald threshold formulas for sequential analysis\n",
    "lower_limit = np.log(beta)-np.log(1-alpha)\n",
    "upper_limit = np.log(1-beta)-np.log(alpha)\n",
    "print('log upper threshold:',lower_limit)\n",
    "print('log lower threshold:',upper_limit)\n",
    "print('upper threshold:',np.exp(lower_limit))\n",
    "print('lower threshold:',np.exp(upper_limit))"
   ]
  },
  {
   "cell_type": "code",
   "execution_count": 10,
   "id": "3addf4ed",
   "metadata": {},
   "outputs": [],
   "source": [
    "N_total_customers = 10000"
   ]
  },
  {
   "cell_type": "code",
   "execution_count": null,
   "id": "06167efa",
   "metadata": {},
   "outputs": [],
   "source": [
    "# plot results\n",
    "random.seed(2)\n",
    "even_probs = create_web_AB_experiment(N_total_customers,p_A=p_A,p_B=p_A)\n",
    "uneven_probs = create_web_AB_experiment(N_total_customers,p_A=p_A,p_B=p_B)\n",
    "plt.plot(range(N_total_customers),even_probs,color='blue',label='p_A=p_B='+str(p_A))\n",
    "plt.plot(range(N_total_customers),uneven_probs,color='orange',label='p_A='+str(p_A)+' p_B='+str(p_B))\n",
    "# upper limit\n",
    "plt.axhline(y=lower_limit, color='g', linestyle='-')\n",
    "plt.axhline(y=upper_limit, color='r', linestyle='-')\n",
    "plt.xlabel('number of accumulated observations')\n",
    "plt.ylabel('log(R)')\n",
    "plt.legend(loc=\"upper left\")\n",
    "plt.show()"
   ]
  },
  {
   "cell_type": "markdown",
   "id": "bd65cdc8",
   "metadata": {},
   "source": [
    "## Coin Flip Example"
   ]
  },
  {
   "cell_type": "code",
   "execution_count": null,
   "id": "23825402",
   "metadata": {},
   "outputs": [],
   "source": [
    "alpha = 0.05 # alpha = type I error rate = sig. level\n",
    "beta  = 0.2  # beta  = type II error rate = 1-power\n",
    "# Wald threshold formulas for sequential analysis\n",
    "lower_limit = np.log(beta)-np.log(1-alpha)\n",
    "upper_limit = np.log(1-beta)-np.log(alpha)\n",
    "print('log upper threshold:',upper_limit)\n",
    "print('log lower threshold:',lower_limit)\n",
    "print('upper threshold:',np.exp(upper_limit))\n",
    "print('lower threshold:',np.exp(lower_limit))"
   ]
  },
  {
   "cell_type": "code",
   "execution_count": null,
   "id": "0212503a",
   "metadata": {},
   "outputs": [],
   "source": [
    "random.seed(1)\n",
    "# fair coin\n",
    "p_fair = 0.5\n",
    "n_flips = 100\n",
    "A=0\n",
    "NA=0\n",
    "BFs = []\n",
    "for flip in range(n_flips):\n",
    "    NA+=1\n",
    "    if np.random.random()<p_fair:\n",
    "        A+=1\n",
    "    BF = np.exp(scipy.special.loggamma(A+1)+scipy.special.loggamma(NA-A+1)-scipy.special.loggamma(NA+2)-(NA*np.log(0.5)))\n",
    "    BFs += [BF]\n",
    "    if (flip % 10) == 0:\n",
    "        plt.plot(range(flip+1),BFs,color='blue',label='Fair Coin')\n",
    "    # upper limit\n",
    "        plt.axhline(y=np.exp(lower_limit), color='g', linestyle='-')\n",
    "        plt.axhline(y=np.exp(upper_limit), color='r', linestyle='-')\n",
    "        plt.xlabel('number of accumulated observations')\n",
    "        plt.ylabel('R')\n",
    "        plt.legend(loc=\"upper left\")\n",
    "        plt.xlim([0, n_flips])\n",
    "        plt.ylim([0, 2])\n",
    "        plt.show()"
   ]
  },
  {
   "cell_type": "code",
   "execution_count": null,
   "id": "d8022e57",
   "metadata": {},
   "outputs": [],
   "source": [
    "random.seed(1)\n",
    "# unfair coin\n",
    "p_unfair = 0.6\n",
    "n_flips = 300\n",
    "first_pass = 0\n",
    "A=0\n",
    "NA=0\n",
    "BFs = []\n",
    "for flip in range(n_flips):\n",
    "    NA+=1\n",
    "    if np.random.random()<p_unfair:\n",
    "        A+=1\n",
    "    BF = np.exp(scipy.special.loggamma(A+1)+scipy.special.loggamma(NA-A+1)-scipy.special.loggamma(NA+2)-(NA*np.log(0.5)))\n",
    "    BFs += [BF]\n",
    "    if BF>np.exp(upper_limit):\n",
    "        first_pass+=1\n",
    "    if ((flip % 50) == 0) or (first_pass==1):           \n",
    "        plt.plot(range(flip+1),BFs,color='blue',label='Unfair Coin')\n",
    "    # upper limit\n",
    "        plt.axhline(y=np.exp(lower_limit), color='g', linestyle='-')\n",
    "        plt.axhline(y=np.exp(upper_limit), color='r', linestyle='-')\n",
    "        plt.xlabel('number of accumulated observations')\n",
    "        plt.ylabel('R')\n",
    "        plt.legend(loc=\"upper left\")\n",
    "        plt.xlim([0, n_flips])\n",
    "        plt.ylim([0, 17])\n",
    "        plt.show()"
   ]
  },
  {
   "cell_type": "markdown",
   "id": "07adf601",
   "metadata": {},
   "source": [
    "# References\n",
    "## Bayesian t-test\n",
    "- https://mspeekenbrink.github.io/sdam-r-companion/bayesian-hypothesis-testing-with-bayes-factors.html"
   ]
  }
 ],
 "metadata": {
  "kernelspec": {
   "display_name": "Python 3 (ipykernel)",
   "language": "python",
   "name": "python3"
  },
  "language_info": {
   "codemirror_mode": {
    "name": "ipython",
    "version": 3
   },
   "file_extension": ".py",
   "mimetype": "text/x-python",
   "name": "python",
   "nbconvert_exporter": "python",
   "pygments_lexer": "ipython3",
   "version": "3.9.13"
  }
 },
 "nbformat": 4,
 "nbformat_minor": 5
}
